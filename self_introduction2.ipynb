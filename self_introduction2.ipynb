{
 "cells": [
  {
   "cell_type": "code",
   "execution_count": 8,
   "metadata": {},
   "outputs": [
    {
     "name": "stdout",
     "output_type": "stream",
     "text": [
      "レイ\n",
      "パイソン研究所\n",
      "16\n",
      "158.5\n",
      "40.0\n"
     ]
    }
   ],
   "source": [
    "print('レイ')\n",
    "print('パイソン研究所')\n",
    "print(16)\n",
    "print(158.5)\n",
    "print(40.0)"
   ]
  },
  {
   "cell_type": "code",
   "execution_count": 9,
   "metadata": {},
   "outputs": [
    {
     "name": "stdout",
     "output_type": "stream",
     "text": [
      "レイパイソン研究所16158.540.0"
     ]
    }
   ],
   "source": [
    "print('レイ',end='')\n",
    "print('パイソン研究所',end='')\n",
    "print(16,end='')\n",
    "print(158.5,end='')\n",
    "print(40.0,end='')"
   ]
  }
 ],
 "metadata": {
  "kernelspec": {
   "display_name": "Python 3",
   "language": "python",
   "name": "python3"
  },
  "language_info": {
   "codemirror_mode": {
    "name": "ipython",
    "version": 3
   },
   "file_extension": ".py",
   "mimetype": "text/x-python",
   "name": "python",
   "nbconvert_exporter": "python",
   "pygments_lexer": "ipython3",
   "version": "3.6.1"
  }
 },
 "nbformat": 4,
 "nbformat_minor": 2
}
